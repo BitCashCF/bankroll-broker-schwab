{
 "cells": [
  {
   "cell_type": "code",
   "execution_count": null,
   "metadata": {},
   "outputs": [],
   "source": [
    "%cd ..\n",
    "\n",
    "import pandas as pd\n",
    "from bankroll import *\n",
    "from bankroll.brokers import ibkr\n",
    "from ib_insync import IB, util\n",
    "from random import randint"
   ]
  },
  {
   "cell_type": "code",
   "execution_count": null,
   "metadata": {},
   "outputs": [],
   "source": [
    "# See bankroll's README for more information on setting up these parameters.\n",
    "\n",
    "# The port upon which Interactive Brokers' Trader Workstation (or IB Gateway) is accepting connections.\n",
    "TWS_PORT = 4001\n",
    "\n",
    "# Token ID from IB's Flex Web Service:\n",
    "# https://www.interactivebrokers.com/en/software/am/am/reports/flex_web_service_version_3.htm\n",
    "FLEX_TOKEN = ''\n",
    "\n",
    "# Query ID for Trades report from IB's Flex Web Service:\n",
    "# https://www.interactivebrokers.com/en/software/am/am/reports/flex_web_service_version_3.htm\n",
    "FLEX_QUERY_TRADES = 0\n",
    "\n",
    "# Query ID for Activity report from IB's Flex Web Service:\n",
    "# https://www.interactivebrokers.com/en/software/am/am/reports/flex_web_service_version_3.htm\n",
    "FLEX_QUERY_ACTIVITY = 0"
   ]
  },
  {
   "cell_type": "code",
   "execution_count": null,
   "metadata": {},
   "outputs": [],
   "source": [
    "util.startLoop()\n",
    "ib = IB()\n",
    "ib.connect('127.0.0.1', port = TWS_PORT, clientId = randint(1, 100000000))"
   ]
  },
  {
   "cell_type": "code",
   "execution_count": null,
   "metadata": {},
   "outputs": [],
   "source": [
    "positions = ibkr.downloadPositions(ib, lenient=False)"
   ]
  },
  {
   "cell_type": "code",
   "execution_count": null,
   "metadata": {},
   "outputs": [],
   "source": [
    "stockPositions = [p for p in positions if isinstance(p.instrument, Stock)]\n",
    "stockPositions.sort(key=lambda p: p.instrument)\n",
    "stockPositions"
   ]
  },
  {
   "cell_type": "code",
   "execution_count": null,
   "metadata": {},
   "outputs": [],
   "source": [
    "activity = ibkr.downloadTrades(token=FLEX_TOKEN,\n",
    "                               queryID=FLEX_QUERY_TRADES,\n",
    "                               lenient=False)\n",
    "activity += ibkr.downloadNonTradeActivity(token=FLEX_TOKEN,\n",
    "                                          queryID=FLEX_QUERY_ACTIVITY,\n",
    "                                          lenient=False)\n",
    "len(activity)"
   ]
  },
  {
   "cell_type": "code",
   "execution_count": null,
   "metadata": {},
   "outputs": [],
   "source": [
    "values = liveValuesForPositions(positions, ibkr.IBDataProvider(ib))"
   ]
  },
  {
   "cell_type": "code",
   "execution_count": null,
   "metadata": {},
   "outputs": [],
   "source": [
    "realizedBases = {p: realizedBasisForSymbol(p.instrument.symbol, activity) for p in stockPositions}"
   ]
  },
  {
   "cell_type": "code",
   "execution_count": null,
   "metadata": {},
   "outputs": [],
   "source": [
    "rows = {p.instrument.symbol: [\n",
    "    values[p],\n",
    "    p.costBasis,\n",
    "    realizedBases[p],\n",
    "] for p in stockPositions}"
   ]
  },
  {
   "cell_type": "code",
   "execution_count": null,
   "metadata": {},
   "outputs": [],
   "source": [
    "df = pd.DataFrame.from_dict(data=rows, orient='index', columns=[\n",
    "    'Market value',\n",
    "    'Cost basis',\n",
    "    'Realized basis',\n",
    "])\n",
    "\n",
    "df"
   ]
  },
  {
   "cell_type": "code",
   "execution_count": null,
   "metadata": {},
   "outputs": [],
   "source": []
  }
 ],
 "metadata": {
  "kernelspec": {
   "display_name": "Python 3",
   "language": "python",
   "name": "python3"
  },
  "language_info": {
   "codemirror_mode": {
    "name": "ipython",
    "version": 3
   },
   "file_extension": ".py",
   "mimetype": "text/x-python",
   "name": "python",
   "nbconvert_exporter": "python",
   "pygments_lexer": "ipython3",
   "version": "3.7.2"
  }
 },
 "nbformat": 4,
 "nbformat_minor": 2
}
