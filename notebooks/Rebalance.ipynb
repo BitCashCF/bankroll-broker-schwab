{
 "cells": [
  {
   "cell_type": "code",
   "execution_count": null,
   "metadata": {},
   "outputs": [],
   "source": [
    "%cd .."
   ]
  },
  {
   "cell_type": "code",
   "execution_count": null,
   "metadata": {},
   "outputs": [],
   "source": [
    "import ibkr\n",
    "from analysis import liveValuesForPositions\n",
    "from decimal import Decimal\n",
    "from ib_insync import IB\n",
    "from model import Cash, Currency, Stock\n",
    "import pandas as pd"
   ]
  },
  {
   "cell_type": "code",
   "execution_count": null,
   "metadata": {},
   "outputs": [],
   "source": [
    "# TODO: Support multi-currency portfolios\n",
    "currency = Currency.USD"
   ]
  },
  {
   "cell_type": "code",
   "execution_count": null,
   "metadata": {},
   "outputs": [],
   "source": [
    "desiredAllocation = {\n",
    "    'TSLA': 0.02,\n",
    "    'AAPL': 0.05,\n",
    "    'BRK B': 0.05,\n",
    "    'VT': 0.8,\n",
    "    'BND': 0.08,\n",
    "}"
   ]
  },
  {
   "cell_type": "code",
   "execution_count": null,
   "metadata": {},
   "outputs": [],
   "source": [
    "ib = IB()\n",
    "ib.connect('127.0.0.1', port = 4001)\n",
    "positions = ibkr.downloadPositions(ib, lenient=False)"
   ]
  },
  {
   "cell_type": "code",
   "execution_count": null,
   "metadata": {},
   "outputs": [],
   "source": [
    "stockPositions = [p for p in positions if isinstance(p.instrument, Stock) and p.instrument.currency == currency]\n",
    "stockPositions.sort(key=lambda p: p.instrument)\n",
    "stockPositions"
   ]
  },
  {
   "cell_type": "code",
   "execution_count": null,
   "metadata": {},
   "outputs": [],
   "source": [
    "values = liveValuesForPositions(stockPositions, ibkr.IBDataProvider(ib))"
   ]
  },
  {
   "cell_type": "code",
   "execution_count": null,
   "metadata": {},
   "outputs": [],
   "source": [
    "portfolioValue = sum((x for x in values.values()), Cash(currency = currency, quantity = Decimal(0)))\n",
    "str(portfolioValue)"
   ]
  },
  {
   "cell_type": "code",
   "execution_count": null,
   "metadata": {},
   "outputs": [],
   "source": [
    "def color_deviations(val):\n",
    "    max_deviation = 0.02\n",
    "    color = 'black'\n",
    "    if abs(val) > max_deviation:\n",
    "        if val > 0:\n",
    "            color = 'green'\n",
    "        else:\n",
    "            color = 'red'\n",
    "            \n",
    "    return f'color: {color}'"
   ]
  },
  {
   "cell_type": "code",
   "execution_count": null,
   "metadata": {},
   "outputs": [],
   "source": [
    "rows = {p.instrument.symbol: [\n",
    "    values[p],\n",
    "    float(values[p].quantity) / float(portfolioValue.quantity),\n",
    "    desiredAllocation.get(p.instrument.symbol),\n",
    "    float(values[p].quantity) / float(portfolioValue.quantity) - (desiredAllocation.get(p.instrument.symbol, 0)),\n",
    "] for p in stockPositions}"
   ]
  },
  {
   "cell_type": "code",
   "execution_count": null,
   "metadata": {},
   "outputs": [],
   "source": [
    "df = pd.DataFrame.from_dict(data=rows, orient='index', columns=[\n",
    "    'Market value',\n",
    "    '% of portfolio',\n",
    "    'Desired %',\n",
    "    'Deviation'\n",
    "])\n",
    "\n",
    "df.style.format({\n",
    "    '% of portfolio': '{:.2%}',\n",
    "    'Desired %': '{:.2%}',\n",
    "    'Deviation': '{:.2%}'\n",
    "}).applymap(color_deviations, 'Deviation')"
   ]
  },
  {
   "cell_type": "code",
   "execution_count": null,
   "metadata": {},
   "outputs": [],
   "source": []
  }
 ],
 "metadata": {
  "kernelspec": {
   "display_name": "Python 3",
   "language": "python",
   "name": "python3"
  },
  "language_info": {
   "codemirror_mode": {
    "name": "ipython",
    "version": 3
   },
   "file_extension": ".py",
   "mimetype": "text/x-python",
   "name": "python",
   "nbconvert_exporter": "python",
   "pygments_lexer": "ipython3",
   "version": "3.7.2"
  }
 },
 "nbformat": 4,
 "nbformat_minor": 2
}
