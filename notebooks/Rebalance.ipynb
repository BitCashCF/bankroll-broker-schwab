{
 "cells": [
  {
   "cell_type": "code",
   "execution_count": null,
   "metadata": {},
   "outputs": [],
   "source": [
    "%cd .."
   ]
  },
  {
   "cell_type": "code",
   "execution_count": null,
   "metadata": {},
   "outputs": [],
   "source": [
    "import ibkr\n",
    "from analysis import liveValuesForPositions\n",
    "from decimal import Decimal\n",
    "from ib_insync import IB\n",
    "from model import Cash, Currency, Stock\n",
    "import pandas as pd"
   ]
  },
  {
   "cell_type": "code",
   "execution_count": null,
   "metadata": {},
   "outputs": [],
   "source": [
    "ib = IB()\n",
    "ib.connect('127.0.0.1', port = 4001)\n",
    "positions = ibkr.downloadPositions(ib, lenient=False)\n",
    "\n",
    "# TODO: Support multi-currency portfolios\n",
    "currency = Currency.USD"
   ]
  },
  {
   "cell_type": "code",
   "execution_count": null,
   "metadata": {},
   "outputs": [],
   "source": [
    "stockPositions = [p for p in positions if isinstance(p.instrument, Stock) and p.instrument.currency == currency]\n",
    "stockPositions"
   ]
  },
  {
   "cell_type": "code",
   "execution_count": null,
   "metadata": {},
   "outputs": [],
   "source": [
    "values = liveValuesForPositions(stockPositions, ibkr.IBDataProvider(ib))"
   ]
  },
  {
   "cell_type": "code",
   "execution_count": null,
   "metadata": {},
   "outputs": [],
   "source": [
    "portfolioValue = sum((x for x in values.values()), Cash(currency = currency, quantity = Decimal(0)))\n",
    "portfolioValue"
   ]
  },
  {
   "cell_type": "code",
   "execution_count": null,
   "metadata": {},
   "outputs": [],
   "source": [
    "rows = {p.instrument.symbol: values[p] for p in stockPositions}\n",
    "pd.DataFrame.from_dict(data=rows, orient='index', columns=['Market value'])"
   ]
  },
  {
   "cell_type": "code",
   "execution_count": null,
   "metadata": {},
   "outputs": [],
   "source": []
  }
 ],
 "metadata": {
  "kernelspec": {
   "display_name": "Python 3",
   "language": "python",
   "name": "python3"
  },
  "language_info": {
   "codemirror_mode": {
    "name": "ipython",
    "version": 3
   },
   "file_extension": ".py",
   "mimetype": "text/x-python",
   "name": "python",
   "nbconvert_exporter": "python",
   "pygments_lexer": "ipython3",
   "version": "3.7.2"
  }
 },
 "nbformat": 4,
 "nbformat_minor": 2
}
